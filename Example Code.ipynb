{
 "cells": [
  {
   "cell_type": "code",
   "execution_count": null,
   "id": "50fa7e19",
   "metadata": {
    "papermill": {
     "duration": 1.69335,
     "end_time": "2023-08-20T12:04:19.902404",
     "exception": false,
     "start_time": "2023-08-20T12:04:18.209054",
     "status": "completed"
    },
    "tags": []
   },
   "outputs": [],
   "source": [
    "# Import required libraries\n",
    "import pandas as pd\n",
    "import numpy as np\n",
    "import matplotlib.pyplot as plt\n",
    "from sklearn.model_selection import train_test_split\n",
    "from sklearn.metrics import accuracy_score\n",
    "from sklearn import ensemble"
   ]
  },
  {
   "cell_type": "code",
   "execution_count": null,
   "id": "e5e675ad",
   "metadata": {
    "_cell_guid": "b1076dfc-b9ad-4769-8c92-a6c4dae69d19",
    "_uuid": "8f2839f25d086af736a60e9eeb907d3b93b6e0e5",
    "papermill": {
     "duration": 0.061546,
     "end_time": "2023-08-20T12:04:19.967850",
     "exception": false,
     "start_time": "2023-08-20T12:04:19.906304",
     "status": "completed"
    },
    "tags": []
   },
   "outputs": [],
   "source": [
    "# Read the CSV file into a pandas DataFrame\n",
    "df = pd.read_csv('D:/ML Lab/archive/Data.csv')"
   ]
  },
  {
   "cell_type": "code",
   "execution_count": null,
   "id": "f2167ecf",
   "metadata": {
    "papermill": {
     "duration": 0.068202,
     "end_time": "2023-08-20T12:04:20.039976",
     "exception": false,
     "start_time": "2023-08-20T12:04:19.971774",
     "status": "completed"
    },
    "tags": []
   },
   "outputs": [],
   "source": [
    "# Fix the table so it can work for the given data\n",
    "# Merge the first three columns using string concatenation\n",
    "df['Material'] = df[['Std', 'Material', 'Heat treatment']].fillna('').agg(' '.join, axis=1)\n",
    "# Remove any string values from Sy column\n",
    "df['Sy'] = df['Sy'].str.replace(' max', '').astype(int)\n",
    "# Drop the unnecessary columns\n",
    "df.drop(['Std','ID', 'Heat treatment', 'Desc','A5','Bhn','pH','Desc','HV'], axis=1, inplace=True)"
   ]
  },
  {
   "cell_type": "code",
   "execution_count": null,
   "id": "abdb31ba",
   "metadata": {
    "papermill": {
     "duration": 0.014416,
     "end_time": "2023-08-20T12:04:20.223433",
     "exception": false,
     "start_time": "2023-08-20T12:04:20.209017",
     "status": "completed"
    },
    "tags": []
   },
   "outputs": [],
   "source": [
    "# Separate the features and label columns\n",
    "X = df.iloc[:, 1:-1].values\n",
    "y = df.iloc[:, -1].values\n",
    "X_train, X_test, \\\n",
    "  y_train, y_test = train_test_split(X, y,\n",
    "                                     test_size = 0.4,\n",
    "                                     random_state=1)"
   ]
  },
  {
   "cell_type": "code",
   "execution_count": null,
   "id": "674c9b0d",
   "metadata": {
    "papermill": {
     "duration": 0.183528,
     "end_time": "2023-08-20T12:04:20.411163",
     "exception": false,
     "start_time": "2023-08-20T12:04:20.227635",
     "status": "completed"
    },
    "tags": []
   },
   "outputs": [],
   "source": [
    "# Train a random forest classifier with 100 trees\n",
    "rf = ensemble.RandomForestClassifier()\n",
    "rf.fit(X_train, y_train)"
   ]
  },
  {
   "cell_type": "code",
   "execution_count": null,
   "id": "e1024211",
   "metadata": {
    "papermill": {
     "duration": 0.030858,
     "end_time": "2023-08-20T12:04:20.447002",
     "exception": false,
     "start_time": "2023-08-20T12:04:20.416144",
     "status": "completed"
    },
    "tags": []
   },
   "outputs": [],
   "source": [
    "# Predict the rating of a new material\n",
    "y_pred = rf.predict(X_test)\n",
    "print(\"Predicted rating of the new material:\", y_pred)"
   ]
  },
  {
   "cell_type": "code",
   "execution_count": null,
   "id": "d5288fe3",
   "metadata": {
    "papermill": {
     "duration": 0.032115,
     "end_time": "2023-08-20T12:04:20.483655",
     "exception": false,
     "start_time": "2023-08-20T12:04:20.451540",
     "status": "completed"
    },
    "tags": []
   },
   "outputs": [],
   "source": [
    "# Accuracy of the decision trees in the random forest\n",
    "acc = accuracy_score(y_test, y_pred)\n",
    "print(\"Accuracy: \", acc)"
   ]
  }
 ],
 "metadata": {
  "kernelspec": {
   "display_name": "Python 3 (ipykernel)",
   "language": "python",
   "name": "python3"
  },
  "language_info": {
   "codemirror_mode": {
    "name": "ipython",
    "version": 3
   },
   "file_extension": ".py",
   "mimetype": "text/x-python",
   "name": "python",
   "nbconvert_exporter": "python",
   "pygments_lexer": "ipython3",
   "version": "3.13.0"
  },
  "papermill": {
   "default_parameters": {},
   "duration": 14.263793,
   "end_time": "2023-08-20T12:04:21.505611",
   "environment_variables": {},
   "exception": null,
   "input_path": "__notebook__.ipynb",
   "output_path": "__notebook__.ipynb",
   "parameters": {},
   "start_time": "2023-08-20T12:04:07.241818",
   "version": "2.4.0"
  }
 },
 "nbformat": 4,
 "nbformat_minor": 5
}
