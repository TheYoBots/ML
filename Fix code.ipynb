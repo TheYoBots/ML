{
 "cells": [
  {
   "cell_type": "code",
   "execution_count": null,
   "metadata": {},
   "outputs": [],
   "source": [
    "# Fix the table so it can work for the given data\n",
    "# Merge the first three columns using string concatenation\n",
    "data['Material'] = data[['Std', 'Material', 'Heat treatment']].fillna('').agg(' '.join, axis=1)\n",
    "# Remove any string values from Sy column\n",
    "data['Sy'] = data['Sy'].str.replace(' max', '').astype(int)\n",
    "# Drop the unnecessary columns\n",
    "data.drop(['Std','ID', 'Heat treatment', 'Desc','A5','Bhn','pH','Desc','HV'], axis=1, inplace=True)"
   ]
  }
 ],
 "metadata": {
  "language_info": {
   "name": "python"
  }
 },
 "nbformat": 4,
 "nbformat_minor": 2
}
